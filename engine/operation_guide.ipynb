{
 "cells": [
  {
   "cell_type": "markdown",
   "id": "697f2db3",
   "metadata": {},
   "source": [
    "# 1. Scrape Reviews"
   ]
  },
  {
   "cell_type": "code",
   "execution_count": null,
   "id": "ebf98b7f",
   "metadata": {},
   "outputs": [],
   "source": [
    "python operations_controller.py scrape --excel ../database/establishments.xlsx"
   ]
  },
  {
   "cell_type": "markdown",
   "id": "a437fedc",
   "metadata": {},
   "source": [
    "# 2. Unify Reviews (Incremental)"
   ]
  },
  {
   "cell_type": "code",
   "execution_count": null,
   "id": "950d1797",
   "metadata": {},
   "outputs": [],
   "source": [
    "# Unify all new reviews\n",
    "python operations_controller.py unify\n",
    "\n",
    "# Unify specific establishments\n",
    "python operations_controller.py unify --establishments \"id1,id2,id3\"\n",
    "\n",
    "# Quick mode (minimal output)\n",
    "python operations_controller.py unify --quick\n",
    "\n",
    "# Rebuild entire collection (use with caution!)\n",
    "python operations_controller.py unify --rebuild"
   ]
  },
  {
   "cell_type": "markdown",
   "id": "e5be9808",
   "metadata": {},
   "source": [
    "# 3. Show Statistics"
   ]
  },
  {
   "cell_type": "markdown",
   "id": "9b0e4841",
   "metadata": {},
   "source": [
    "python operations_controller.py stats"
   ]
  },
  {
   "cell_type": "markdown",
   "id": "f81dc15b",
   "metadata": {},
   "source": [
    "# 4. Scrape and Unify (Combined)"
   ]
  },
  {
   "cell_type": "code",
   "execution_count": null,
   "id": "e2caaf48",
   "metadata": {},
   "outputs": [],
   "source": [
    "# Full workflow\n",
    "python operations_controller.py scrape-and-unify --excel ../database/establishments.xlsx\n",
    "\n",
    "# With quick unification\n",
    "python operations_controller.py scrape-and-unify --excel ../database/establishments.xlsx --quick-unify"
   ]
  },
  {
   "cell_type": "markdown",
   "id": "df6a5ca1",
   "metadata": {},
   "source": [
    "# 5. Verbose Mode"
   ]
  },
  {
   "cell_type": "code",
   "execution_count": null,
   "id": "f901fead",
   "metadata": {},
   "outputs": [],
   "source": [
    "# Add -v or --verbose to any command\n",
    "python operations_controller.py unify --verbose"
   ]
  },
  {
   "cell_type": "markdown",
   "id": "077054f0",
   "metadata": {},
   "source": [
    "# Usage Examples"
   ]
  },
  {
   "cell_type": "markdown",
   "id": "43b5be47",
   "metadata": {},
   "source": [
    "## Daily Operations"
   ]
  },
  {
   "cell_type": "code",
   "execution_count": null,
   "id": "a69225bf",
   "metadata": {},
   "outputs": [],
   "source": [
    "# Quick daily unification\n",
    "python operations_controller.py unify --quick\n",
    "\n",
    "# Full scrape and unify new establishments\n",
    "python operations_controller.py scrape-and-unify --excel new_establishments.xlsx"
   ]
  },
  {
   "cell_type": "markdown",
   "id": "f6889cb0",
   "metadata": {},
   "source": [
    "## Maintenance Operations"
   ]
  },
  {
   "cell_type": "code",
   "execution_count": null,
   "id": "50371365",
   "metadata": {},
   "outputs": [],
   "source": [
    "# Check database status\n",
    "python operations_controller.py stats\n",
    "\n",
    "# Full rebuild (when needed)\n",
    "python operations_controller.py unify --rebuild\n",
    "\n",
    "# Verbose troubleshooting\n",
    "python operations_controller.py unify --verbose"
   ]
  },
  {
   "cell_type": "markdown",
   "id": "bb0c96da",
   "metadata": {},
   "source": [
    "## Targeted Operations"
   ]
  },
  {
   "cell_type": "code",
   "execution_count": null,
   "id": "41731b0f",
   "metadata": {},
   "outputs": [],
   "source": [
    "# Process specific establishments only\n",
    "python operations_controller.py unify --establishments \"687a51385c7e5bb6b9c1a5d6,another_id\""
   ]
  },
  {
   "cell_type": "markdown",
   "id": "0f0b0a84",
   "metadata": {},
   "source": [
    "## Programmatic Usage"
   ]
  },
  {
   "cell_type": "code",
   "execution_count": null,
   "id": "c86fdafd",
   "metadata": {},
   "outputs": [],
   "source": [
    "from database.incremental_unifier import IncrementalUnifier\n",
    "from engine.operations_controller import OperationsController\n",
    "\n",
    "# Use the unifier directly\n",
    "unifier = IncrementalUnifier(log_to_file=False, log_level=\"WARNING\")\n",
    "unifier.initialize()\n",
    "results = unifier.run_for_all_establishments(show_stats=False)\n",
    "unifier.cleanup()\n",
    "\n",
    "# Use the controller\n",
    "controller = OperationsController(verbose=False)\n",
    "success = controller.unify_reviews(quick=True)"
   ]
  }
 ],
 "metadata": {
  "kernelspec": {
   "display_name": "base",
   "language": "python",
   "name": "python3"
  },
  "language_info": {
   "name": "python",
   "version": "3.11.4"
  }
 },
 "nbformat": 4,
 "nbformat_minor": 5
}
