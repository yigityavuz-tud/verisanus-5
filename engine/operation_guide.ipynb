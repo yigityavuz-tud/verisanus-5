{
 "cells": [
  {
   "cell_type": "markdown",
   "id": "697f2db3",
   "metadata": {},
   "source": [
    "# Review Scraper Operations Guide\n",
    "\n",
    "This guide covers all operations for the review scraper system, including the new language standardization features."
   ]
  },
  {
   "cell_type": "markdown",
   "id": "pipeline_overview",
   "metadata": {},
   "source": [
    "## Pipeline Overview\n",
    "\n",
    "The review processing pipeline now has three main stages:\n",
    "\n",
    "1. **Scrape**: Extract reviews from Google Maps and Trustpilot\n",
    "2. **Unify**: Combine raw reviews into standardized format in `unified_reviews` collection\n",
    "3. **Standardize**: Translate non-English content to English in `ls_unified_reviews` collection\n",
    "\n",
    "Each stage is incremental - only new data is processed."
   ]
  },
  {
   "cell_type": "markdown",
   "id": "697f2db3_orig",
   "metadata": {},
   "source": [
    "# 1. Scrape Reviews"
   ]
  },
  {
   "cell_type": "code",
   "execution_count": null,
   "id": "ebf98b7f",
   "metadata": {},
   "outputs": [],
   "source": [
    "python operations_controller.py scrape --excel ../database/establishments.xlsx"
   ]
  },
  {
   "cell_type": "markdown",
   "id": "a437fedc",
   "metadata": {},
   "source": [
    "# 2. Unify Reviews (Incremental)"
   ]
  },
  {
   "cell_type": "code",
   "execution_count": null,
   "id": "950d1797",
   "metadata": {},
   "outputs": [],
   "source": [
    "# Unify all new reviews (incremental - only processes new reviews)\n",
    "python operations_controller.py unify\n",
    "\n",
    "# Unify specific establishments\n",
    "python operations_controller.py unify --establishments \"id1,id2,id3\"\n",
    "\n",
    "# Quick mode (minimal output)\n",
    "python operations_controller.py unify --quick"
   ]
  },
  {
   "cell_type": "markdown",
   "id": "standardize_section",
   "metadata": {},
   "source": [
    "# 3. Standardize Reviews (Language Translation) - NEW!"
   ]
  },
  {
   "cell_type": "code",
   "execution_count": null,
   "id": "standardize_code",
   "metadata": {},
   "outputs": [],
   "source": [
    "# Standardize all new reviews (incremental - only processes new reviews)\n",
    "python operations_controller.py standardize\n",
    "\n",
    "# Standardize specific establishments\n",
    "python operations_controller.py standardize --establishments \"id1,id2,id3\"\n",
    "\n",
    "# Quick mode (minimal output)\n",
    "python operations_controller.py standardize --quick"
   ]
  },
  {
   "cell_type": "markdown",
   "id": "standardize_details",
   "metadata": {},
   "source": [
    "## What Language Standardization Does:\n",
    "\n",
    "- **Detects language** of owner responses using langdetect\n",
    "- **For Google reviews**: Translates `response_from_owner_text` if not English\n",
    "- **For Trustpilot reviews**: \n",
    "  - Translates `title` + `review_text` if `review_language` is not English\n",
    "  - Translates `response_from_owner_text` if detected language is not English\n",
    "- **Adds new field**: `response_from_owner_language` for all reviews\n",
    "- **Uses Google Gemini** for translations\n",
    "- **Caches translations** to avoid duplicate API calls"
   ]
  },
  {
   "cell_type": "markdown",
   "id": "rebuild_section",
   "metadata": {},
   "source": [
    "## Full Rebuild (When Needed)\n",
    "\n",
    "If you need to rebuild entire collections from scratch:"
   ]
  },
  {
   "cell_type": "code",
   "execution_count": null,
   "id": "rebuild_code",
   "metadata": {},
   "outputs": [],
   "source": [
    "# Rebuild unified_reviews collection\n",
    "# Option 1: Delete collection via MongoDB Compass/CLI, then run:\n",
    "python operations_controller.py unify\n",
    "\n",
    "# Rebuild ls_unified_reviews collection  \n",
    "# Option 1: Delete collection via MongoDB Compass/CLI, then run:\n",
    "python operations_controller.py standardize\n",
    "\n",
    "# Option 2: Using MongoDB CLI (if you have access)\n",
    "# db.unified_reviews.drop()\n",
    "# db.ls_unified_reviews.drop()\n",
    "# Then run: python operations_controller.py unify\n",
    "# Then run: python operations_controller.py standardize"
   ]
  },
  {
   "cell_type": "markdown",
   "id": "e5be9808",
   "metadata": {},
   "source": [
    "# 4. Show Statistics"
   ]
  },
  {
   "cell_type": "code",
   "execution_count": null,
   "id": "9b0e4841",
   "metadata": {},
   "outputs": [],
   "source": [
    "python operations_controller.py stats"
   ]
  },
  {
   "cell_type": "markdown",
   "id": "stats_details",
   "metadata": {},
   "source": [
    "## Statistics Now Include:\n",
    "\n",
    "- **Raw collections**: google, trustpilot, establishments counts\n",
    "- **Unified reviews**: Total count and platform breakdown with average ratings\n",
    "- **Language standardized reviews**: Total count, platform breakdown, owner response counts\n",
    "- **Response language breakdown**: Shows detected languages in owner responses"
   ]
  },
  {
   "cell_type": "markdown",
   "id": "f81dc15b",
   "metadata": {},
   "source": [
    "# 5. Combined Operations"
   ]
  },
  {
   "cell_type": "code",
   "execution_count": null,
   "id": "combined_orig",
   "metadata": {},
   "outputs": [],
   "source": [
    "# Scrape + Unify\n",
    "python operations_controller.py scrape-and-unify --excel ../database/establishments.xlsx\n",
    "python operations_controller.py scrape-and-unify --excel ../database/establishments.xlsx --quick-unify"
   ]
  },
  {
   "cell_type": "code",
   "execution_count": null,
   "id": "full_pipeline",
   "metadata": {},
   "outputs": [],
   "source": [
    "# Full Pipeline: Scrape + Unify + Standardize (NEW!)\n",
    "python operations_controller.py full-pipeline --excel ../database/establishments.xlsx\n",
    "\n",
    "# With quick modes for faster processing\n",
    "python operations_controller.py full-pipeline --excel ../database/establishments.xlsx --quick-unify --quick-standardize"
   ]
  },
  {
   "cell_type": "markdown",
   "id": "df6a5ca1",
   "metadata": {},
   "source": [
    "# 6. Verbose Mode"
   ]
  },
  {
   "cell_type": "code",
   "execution_count": null,
   "id": "f901fead",
   "metadata": {},
   "outputs": [],
   "source": [
    "# Add -v or --verbose to any command for detailed logging\n",
    "python operations_controller.py unify --verbose\n",
    "python operations_controller.py standardize --verbose\n",
    "python operations_controller.py scrape --excel ../database/establishments.xlsx --verbose\n",
    "python operations_controller.py stats --verbose\n",
    "python operations_controller.py full-pipeline --excel ../database/establishments.xlsx --verbose"
   ]
  },
  {
   "cell_type": "markdown",
   "id": "077054f0",
   "metadata": {},
   "source": [
    "# Usage Examples"
   ]
  },
  {
   "cell_type": "markdown",
   "id": "43b5be47",
   "metadata": {},
   "source": [
    "## Daily Operations"
   ]
  },
  {
   "cell_type": "code",
   "execution_count": null,
   "id": "a69225bf",
   "metadata": {},
   "outputs": [],
   "source": [
    "# Quick daily processing (only new reviews)\n",
    "python operations_controller.py unify --quick\n",
    "python operations_controller.py standardize --quick\n",
    "\n",
    "# Or combined:\n",
    "python operations_controller.py unify --quick && python operations_controller.py standardize --quick\n",
    "\n",
    "# Check database status\n",
    "python operations_controller.py stats\n",
    "\n",
    "# Full pipeline for new establishments\n",
    "python operations_controller.py full-pipeline --excel new_establishments.xlsx --quick-unify --quick-standardize"
   ]
  },
  {
   "cell_type": "markdown",
   "id": "f6889cb0",
   "metadata": {},
   "source": [
    "## Maintenance Operations"
   ]
  },
  {
   "cell_type": "code",
   "execution_count": null,
   "id": "50371365",
   "metadata": {},
   "outputs": [],
   "source": [
    "# Check current database status and statistics\n",
    "python operations_controller.py stats\n",
    "\n",
    "# Re-process all reviews (after deleting collections)\n",
    "# First: Delete unified_reviews and ls_unified_reviews collections via MongoDB Compass\n",
    "# Then: python operations_controller.py unify\n",
    "# Then: python operations_controller.py standardize\n",
    "\n",
    "# Verbose troubleshooting\n",
    "python operations_controller.py standardize --verbose"
   ]
  },
  {
   "cell_type": "markdown",
   "id": "bb0c96da",
   "metadata": {},
   "source": [
    "## Targeted Operations"
   ]
  },
  {
   "cell_type": "code",
   "execution_count": null,
   "id": "41731b0f",
   "metadata": {},
   "outputs": [],
   "source": [
    "# Process specific establishments only\n",
    "python operations_controller.py unify --establishments \"687a51385c7e5bb6b9c1a5d6,another_id\"\n",
    "python operations_controller.py standardize --establishments \"687a51385c7e5bb6b9c1a5d6,another_id\"\n",
    "\n",
    "# Re-scrape specific establishments (add them to a new Excel file)\n",
    "python operations_controller.py scrape --excel specific_establishments.xlsx"
   ]
  },
  {
   "cell_type": "markdown",
   "id": "0f0b0a84",
   "metadata": {},
   "source": [
    "## Programmatic Usage"
   ]
  },
  {
   "cell_type": "code",
   "execution_count": null,
   "id": "c86fdafd",
   "metadata": {},
   "outputs": [],
   "source": [
    "from engine.operations_controller import OperationsController\n",
    "from database.db_manager import DatabaseManager\n",
    "\n",
    "# Use the operations controller directly\n",
    "controller = OperationsController(verbose=False)\n",
    "controller.initialize()\n",
    "\n",
    "# Unify reviews quietly\n",
    "success = controller.unify_reviews(quick=True)\n",
    "\n",
    "# Standardize reviews quietly\n",
    "success = controller.standardize_reviews(quick=True)\n",
    "\n",
    "# Get statistics\n",
    "controller.show_statistics()\n",
    "\n",
    "# Clean up\n",
    "controller.cleanup()\n",
    "\n",
    "# Use the database manager directly\n",
    "db_manager = DatabaseManager()\n",
    "mongodb_connection = \"your_connection_string\"\n",
    "db_manager.connect(mongodb_connection)\n",
    "\n",
    "# Run incremental unification\n",
    "unify_results = db_manager.unify_reviews_incremental()\n",
    "print(f\"Unified: {unify_results}\")\n",
    "\n",
    "# Run incremental standardization\n",
    "standardize_results = db_manager.standardize_reviews_incremental()\n",
    "print(f\"Standardized: {standardize_results}\")\n",
    "\n",
    "# Get stats\n",
    "unified_stats = db_manager.get_unified_reviews_stats()\n",
    "ls_stats = db_manager.get_ls_unified_reviews_stats()\n",
    "print(f\"Unified Stats: {unified_stats}\")\n",
    "print(f\"Language Standardized Stats: {ls_stats}\")\n",
    "\n",
    "db_manager.close_connection()"
   ]
  },
  {
   "cell_type": "markdown",
   "id": "workflow_section",
   "metadata": {},
   "source": [
    "# Common Workflows"
   ]
  },
  {
   "cell_type": "markdown",
   "id": "new_establishments",
   "metadata": {},
   "source": [
    "## Adding New Establishments"
   ]
  },
  {
   "cell_type": "code",
   "execution_count": null,
   "id": "new_est_code",
   "metadata": {},
   "outputs": [],
   "source": [
    "# 1. Add new establishments to Excel file\n",
    "# 2. Run full pipeline\n",
    "python operations_controller.py full-pipeline --excel new_establishments.xlsx\n",
    "\n",
    "# 3. Check results\n",
    "python operations_controller.py stats"
   ]
  },
  {
   "cell_type": "markdown",
   "id": "regular_updates",
   "metadata": {},
   "source": [
    "## Regular Data Updates"
   ]
  },
  {
   "cell_type": "code",
   "execution_count": null,
   "id": "regular_code",
   "metadata": {},
   "outputs": [],
   "source": [
    "# Daily: Process any new reviews that were scraped\n",
    "python operations_controller.py unify --quick\n",
    "python operations_controller.py standardize --quick\n",
    "\n",
    "# Weekly: Full statistics review\n",
    "python operations_controller.py stats\n",
    "\n",
    "# Monthly: Re-scrape existing establishments (use same Excel file)\n",
    "python operations_controller.py scrape --excel ../database/establishments.xlsx\n",
    "python operations_controller.py unify\n",
    "python operations_controller.py standardize"
   ]
  },
  {
   "cell_type": "markdown",
   "id": "troubleshooting",
   "metadata": {},
   "source": [
    "## Troubleshooting"
   ]
  },
  {
   "cell_type": "code",
   "execution_count": null,
   "id": "troubleshoot_code",
   "metadata": {},
   "outputs": [],
   "source": [
    "# Debug with verbose logging\n",
    "python operations_controller.py standardize --verbose\n",
    "\n",
    "# Check if processing is working properly\n",
    "python operations_controller.py stats\n",
    "\n",
    "# Process specific problematic establishments\n",
    "python operations_controller.py standardize --establishments \"problematic_id\" --verbose\n",
    "\n",
    "# Full rebuild if needed (after backing up data)\n",
    "# 1. Delete unified_reviews and ls_unified_reviews collections in MongoDB\n",
    "# 2. python operations_controller.py unify --verbose\n",
    "# 3. python operations_controller.py standardize --verbose"
   ]
  },
  {
   "cell_type": "markdown",
   "id": "api_costs",
   "metadata": {},
   "source": [
    "## Managing Translation API Costs"
   ]
  },
  {
   "cell_type": "code",
   "execution_count": null,
   "id": "api_cost_code",
   "metadata": {},
   "outputs": [],
   "source": [
    "# Check how many translations would be needed before running\n",
    "python operations_controller.py stats\n",
    "\n",
    "# Process in smaller batches to control costs\n",
    "python operations_controller.py standardize --establishments \"est1,est2,est3\" --verbose\n",
    "\n",
    "# Run standardization with careful monitoring\n",
    "# The system automatically caches translations to avoid duplicates\n",
    "# Language detection (langdetect) runs first to minimize API calls\n",
    "python operations_controller.py standardize --quick"
   ]
  },
  {
   "cell_type": "markdown",
   "id": "performance_tips",
   "metadata": {},
   "source": [
    "# Performance Tips"
   ]
  },
  {
   "cell_type": "markdown",
   "id": "performance_content",
   "metadata": {},
   "source": [
    "## General Performance\n",
    "- **Use `--quick` for daily operations** to reduce output and improve speed\n",
    "- **Process in batches**: The system automatically batches 1000 reviews at a time\n",
    "- **Incremental by default**: Only new data is processed, making regular runs fast\n",
    "- **Use verbose mode only for debugging** as it generates more I/O\n",
    "- **Monitor with stats**: Regular stats checks help identify issues early\n",
    "- **Indexes are auto-created**: The system creates optimal indexes automatically\n",
    "\n",
    "## Language Standardization Specific\n",
    "- **Language detection is fast**: langdetect runs locally with no API costs\n",
    "- **Translation caching**: Identical texts are translated only once\n",
    "- **Smart filtering**: Only non-English content is sent to translation API\n",
    "- **Batch processing**: Short texts may be batched for API efficiency\n",
    "- **Graceful failures**: If translation fails, original text is preserved\n",
    "\n",
    "## API Cost Optimization\n",
    "- **Length filtering**: Very short texts (<5 chars) are not processed\n",
    "- **Language filtering**: English content is automatically skipped\n",
    "- **Deduplication**: Identical responses are translated only once\n",
    "- **Incremental processing**: Only new reviews need translation"
   ]
  },
  {
   "cell_type": "markdown",
   "id": "collections_info",
   "metadata": {},
   "source": [
    "# Database Collections\n",
    "\n",
    "## Raw Collections\n",
    "- **`google`**: Raw Google Maps reviews\n",
    "- **`trustpilot`**: Raw Trustpilot reviews\n",
    "- **`establishments`**: Business information\n",
    "\n",
    "## Processed Collections\n",
    "- **`unified_reviews`**: Standardized format, mixed languages\n",
    "- **`ls_unified_reviews`**: Language standardized (English) format\n",
    "\n",
    "## Key Differences in `ls_unified_reviews`\n",
    "- **New field**: `response_from_owner_language` (detected language)\n",
    "- **Translated content**: Non-English reviews and responses are in English\n",
    "- **For Google**: Only `response_from_owner_text` is translated if needed\n",
    "- **For Trustpilot**: Both review content and owner responses are translated if needed\n",
    "- **Preservation**: Original language indicators are maintained for reference"
   ]
  },
  {
   "cell_type": "markdown",
   "id": "requirements_note",
   "metadata": {},
   "source": [
    "# Requirements\n",
    "\n",
    "Make sure to install the additional requirements for language standardization:\n",
    "\n",
    "```bash\n",
    "pip install langdetect google-generativeai\n",
    "```\n",
    "\n",
    "And ensure you have the Google API key file:\n",
    "- `tokens/google_api_key.txt`"
   ]
  }
 ],
 "metadata": {
  "kernelspec": {
   "display_name": "base",
   "language": "python",
   "name": "python3"
  },
  "language_info": {
   "name": "python",
   "version": "3.11.4"
  }
 },
 "nbformat": 4,
 "nbformat_minor": 5
}