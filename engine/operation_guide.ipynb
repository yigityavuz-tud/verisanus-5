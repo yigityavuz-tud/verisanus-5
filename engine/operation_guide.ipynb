{
 "cells": [
  {
   "cell_type": "markdown",
   "id": "697f2db3",
   "metadata": {},
   "source": [
    "# 1. Scrape Reviews"
   ]
  },
  {
   "cell_type": "code",
   "execution_count": null,
   "id": "ebf98b7f",
   "metadata": {},
   "outputs": [],
   "source": [
    "python operations_controller.py scrape --excel ../database/establishments.xlsx"
   ]
  },
  {
   "cell_type": "markdown",
   "id": "a437fedc",
   "metadata": {},
   "source": [
    "# 2. Unify Reviews (Incremental)"
   ]
  },
  {
   "cell_type": "code",
   "execution_count": null,
   "id": "950d1797",
   "metadata": {},
   "outputs": [],
   "source": [
    "# Unify all new reviews (incremental - only processes new reviews)\n",
    "python operations_controller.py unify\n",
    "\n",
    "# Unify specific establishments\n",
    "python operations_controller.py unify --establishments \"id1,id2,id3\"\n",
    "\n",
    "# Quick mode (minimal output)\n",
    "python operations_controller.py unify --quick"
   ]
  },
  {
   "cell_type": "markdown",
   "id": "rebuild_section",
   "metadata": {},
   "source": [
    "## Full Rebuild (When Needed)\n",
    "\n",
    "If you need to rebuild the entire unified_reviews collection from scratch:"
   ]
  },
  {
   "cell_type": "code",
   "execution_count": null,
   "id": "rebuild_code",
   "metadata": {},
   "outputs": [],
   "source": [
    "# Option 1: Delete collection via MongoDB Compass/CLI, then run:\n",
    "python operations_controller.py unify\n",
    "\n",
    "# Option 2: Using MongoDB CLI (if you have access)\n",
    "# db.unified_reviews.drop()\n",
    "# Then run: python operations_controller.py unify"
   ]
  },
  {
   "cell_type": "markdown",
   "id": "e5be9808",
   "metadata": {},
   "source": [
    "# 3. Show Statistics"
   ]
  },
  {
   "cell_type": "code",
   "execution_count": null,
   "id": "9b0e4841",
   "metadata": {},
   "outputs": [],
   "source": [
    "python operations_controller.py stats"
   ]
  },
  {
   "cell_type": "markdown",
   "id": "f81dc15b",
   "metadata": {},
   "source": [
    "# 4. Scrape and Unify (Combined)"
   ]
  },
  {
   "cell_type": "code",
   "execution_count": null,
   "id": "e2caaf48",
   "metadata": {},
   "outputs": [],
   "source": [
    "# Full workflow: scrape new establishments then unify\n",
    "python operations_controller.py scrape-and-unify --excel ../database/establishments.xlsx\n",
    "\n",
    "# With quick unification (minimal output)\n",
    "python operations_controller.py scrape-and-unify --excel ../database/establishments.xlsx --quick-unify"
   ]
  },
  {
   "cell_type": "markdown",
   "id": "df6a5ca1",
   "metadata": {},
   "source": [
    "# 5. Verbose Mode"
   ]
  },
  {
   "cell_type": "code",
   "execution_count": null,
   "id": "f901fead",
   "metadata": {},
   "outputs": [],
   "source": [
    "# Add -v or --verbose to any command for detailed logging\n",
    "python operations_controller.py unify --verbose\n",
    "python operations_controller.py scrape --excel ../database/establishments.xlsx --verbose\n",
    "python operations_controller.py stats --verbose"
   ]
  },
  {
   "cell_type": "markdown",
   "id": "077054f0",
   "metadata": {},
   "source": [
    "# Usage Examples"
   ]
  },
  {
   "cell_type": "markdown",
   "id": "43b5be47",
   "metadata": {},
   "source": [
    "## Daily Operations"
   ]
  },
  {
   "cell_type": "code",
   "execution_count": null,
   "id": "a69225bf",
   "metadata": {},
   "outputs": [],
   "source": [
    "# Quick daily unification (only new reviews)\n",
    "python operations_controller.py unify --quick\n",
    "\n",
    "# Check database status\n",
    "python operations_controller.py stats\n",
    "\n",
    "# Full scrape and unify for new establishments\n",
    "python operations_controller.py scrape-and-unify --excel new_establishments.xlsx --quick-unify"
   ]
  },
  {
   "cell_type": "markdown",
   "id": "f6889cb0",
   "metadata": {},
   "source": [
    "## Maintenance Operations"
   ]
  },
  {
   "cell_type": "code",
   "execution_count": null,
   "id": "50371365",
   "metadata": {},
   "outputs": [],
   "source": [
    "# Check current database status and statistics\n",
    "python operations_controller.py stats\n",
    "\n",
    "# Re-process all reviews (after deleting unified_reviews collection)\n",
    "# First: Delete unified_reviews collection via MongoDB Compass\n",
    "# Then: python operations_controller.py unify\n",
    "\n",
    "# Verbose troubleshooting\n",
    "python operations_controller.py unify --verbose"
   ]
  },
  {
   "cell_type": "markdown",
   "id": "bb0c96da",
   "metadata": {},
   "source": [
    "## Targeted Operations"
   ]
  },
  {
   "cell_type": "code",
   "execution_count": null,
   "id": "41731b0f",
   "metadata": {},
   "outputs": [],
   "source": [
    "# Process specific establishments only\n",
    "python operations_controller.py unify --establishments \"687a51385c7e5bb6b9c1a5d6,another_id\"\n",
    "\n",
    "# Re-scrape specific establishments (add them to a new Excel file)\n",
    "python operations_controller.py scrape --excel specific_establishments.xlsx"
   ]
  },
  {
   "cell_type": "markdown",
   "id": "0f0b0a84",
   "metadata": {},
   "source": [
    "## Programmatic Usage"
   ]
  },
  {
   "cell_type": "code",
   "execution_count": null,
   "id": "c86fdafd",
   "metadata": {},
   "outputs": [],
   "source": [
    "from engine.operations_controller import OperationsController\n",
    "from database.db_manager import DatabaseManager\n",
    "\n",
    "# Use the operations controller directly\n",
    "controller = OperationsController(verbose=False)\n",
    "controller.initialize()\n",
    "\n",
    "# Unify reviews quietly\n",
    "success = controller.unify_reviews(quick=True)\n",
    "\n",
    "# Get statistics\n",
    "controller.show_statistics()\n",
    "\n",
    "# Clean up\n",
    "controller.cleanup()\n",
    "\n",
    "# Use the database manager directly\n",
    "db_manager = DatabaseManager()\n",
    "mongodb_connection = \"your_connection_string\"\n",
    "db_manager.connect(mongodb_connection)\n",
    "\n",
    "# Run incremental unification\n",
    "results = db_manager.unify_reviews_incremental()\n",
    "print(f\"Unified: {results}\")\n",
    "\n",
    "# Get stats\n",
    "stats = db_manager.get_unified_reviews_stats()\n",
    "print(f\"Stats: {stats}\")\n",
    "\n",
    "db_manager.close_connection()"
   ]
  },
  {
   "cell_type": "markdown",
   "id": "workflow_section",
   "metadata": {},
   "source": [
    "# Common Workflows"
   ]
  },
  {
   "cell_type": "markdown",
   "id": "new_establishments",
   "metadata": {},
   "source": [
    "## Adding New Establishments"
   ]
  },
  {
   "cell_type": "code",
   "execution_count": null,
   "id": "new_est_code",
   "metadata": {},
   "outputs": [],
   "source": [
    "# 1. Add new establishments to Excel file\n",
    "# 2. Run combined operation\n",
    "python operations_controller.py scrape-and-unify --excel new_establishments.xlsx\n",
    "\n",
    "# 3. Check results\n",
    "python operations_controller.py stats"
   ]
  },
  {
   "cell_type": "markdown",
   "id": "regular_updates",
   "metadata": {},
   "source": [
    "## Regular Data Updates"
   ]
  },
  {
   "cell_type": "code",
   "execution_count": null,
   "id": "regular_code",
   "metadata": {},
   "outputs": [],
   "source": [
    "# Daily: Unify any new reviews that were scraped\n",
    "python operations_controller.py unify --quick\n",
    "\n",
    "# Weekly: Full statistics review\n",
    "python operations_controller.py stats\n",
    "\n",
    "# Monthly: Re-scrape existing establishments (use same Excel file)\n",
    "python operations_controller.py scrape --excel ../database/establishments.xlsx\n",
    "python operations_controller.py unify"
   ]
  },
  {
   "cell_type": "markdown",
   "id": "troubleshooting",
   "metadata": {},
   "source": [
    "## Troubleshooting"
   ]
  },
  {
   "cell_type": "code",
   "execution_count": null,
   "id": "troubleshoot_code",
   "metadata": {},
   "outputs": [],
   "source": [
    "# Debug with verbose logging\n",
    "python operations_controller.py unify --verbose\n",
    "\n",
    "# Check if unification is working properly\n",
    "python operations_controller.py stats\n",
    "\n",
    "# Process specific problematic establishments\n",
    "python operations_controller.py unify --establishments \"problematic_id\" --verbose\n",
    "\n",
    "# Full rebuild if needed (after backing up data)\n",
    "# 1. Delete unified_reviews collection in MongoDB\n",
    "# 2. python operations_controller.py unify --verbose"
   ]
  },
  {
   "cell_type": "markdown",
   "id": "performance_tips",
   "metadata": {},
   "source": [
    "# Performance Tips"
   ]
  },
  {
   "cell_type": "markdown",
   "id": "performance_content",
   "metadata": {},
   "source": [
    "- **Use `--quick` for daily unification** to reduce output and improve speed\n",
    "- **Process in batches**: The system automatically batches 1000 reviews at a time\n",
    "- **Incremental by default**: Only new reviews are processed, making regular runs fast\n",
    "- **Use verbose mode only for debugging** as it generates more I/O\n",
    "- **Monitor with stats**: Regular stats checks help identify issues early\n",
    "- **Indexes are auto-created**: The system creates optimal indexes automatically"
   ]
  }
 ],
 "metadata": {
  "kernelspec": {
   "display_name": "base",
   "language": "python",
   "name": "python3"
  },
  "language_info": {
   "name": "python",
   "version": "3.11.4"
  }
 },
 "nbformat": 4,
 "nbformat_minor": 5
}