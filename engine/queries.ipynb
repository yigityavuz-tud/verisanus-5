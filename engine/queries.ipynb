{
 "cells": [
  {
   "cell_type": "code",
   "execution_count": 6,
   "id": "ec070f8f",
   "metadata": {},
   "outputs": [],
   "source": [
    "from database.db_manager import DatabaseManager\n",
    "import os\n",
    "import sys\n",
    "from pathlib import Path\n"
   ]
  },
  {
   "cell_type": "code",
   "execution_count": 7,
   "id": "ad928ed1",
   "metadata": {},
   "outputs": [
    {
     "name": "stderr",
     "output_type": "stream",
     "text": [
      "INFO:database.db_manager:Successfully connected to MongoDB database: review_scraper\n",
      "INFO:database.db_manager:Database connection closed\n"
     ]
    },
    {
     "name": "stdout",
     "output_type": "stream",
     "text": [
      "Found 40 distinct establishments:\n",
      "687a51385c7e5bb6b9c1a5d6\n",
      "687a51385c7e5bb6b9c1a5d7\n",
      "687a86fa9df984d21a14752f\n",
      "687a86fa9df984d21a147530\n",
      "687a86fa9df984d21a147531\n",
      "687a86fa9df984d21a147532\n",
      "687a86fa9df984d21a147533\n",
      "687a86fa9df984d21a147534\n",
      "687a86fa9df984d21a147535\n",
      "687a86fa9df984d21a147536\n",
      "687a86fa9df984d21a147537\n",
      "687a86fa9df984d21a147538\n",
      "68822a391955e8dc333619c9\n",
      "68822a391955e8dc333619ca\n",
      "68822a391955e8dc333619cb\n",
      "68822a391955e8dc333619cc\n",
      "68822a391955e8dc333619cd\n",
      "68822a391955e8dc333619ce\n",
      "68822a391955e8dc333619cf\n",
      "68822a391955e8dc333619d0\n",
      "68822a391955e8dc333619d1\n",
      "68822a391955e8dc333619d2\n",
      "68822a391955e8dc333619d3\n",
      "68822a391955e8dc333619d4\n",
      "68822a391955e8dc333619d5\n",
      "68822a391955e8dc333619d6\n",
      "68822a391955e8dc333619d7\n",
      "68822a3a1955e8dc333619d8\n",
      "68822a3a1955e8dc333619d9\n",
      "68822a3a1955e8dc333619da\n",
      "68822a3a1955e8dc333619db\n",
      "68822a3a1955e8dc333619dc\n",
      "68822a3a1955e8dc333619dd\n",
      "68822a3a1955e8dc333619de\n",
      "68822a3a1955e8dc333619df\n",
      "68822a3a1955e8dc333619e0\n",
      "68822a3a1955e8dc333619e1\n",
      "68822a3a1955e8dc333619e2\n",
      "68822a3a1955e8dc333619e3\n",
      "68822a3a1955e8dc333619e4\n"
     ]
    }
   ],
   "source": [
    "db_manager = DatabaseManager()\n",
    "\n",
    "# Load tokens (same as your existing code)\n",
    "with open('tokens/mongodb_connection.txt', 'r') as f:\n",
    "    mongodb_connection = f.read().strip()\n",
    "\n",
    "# Connect\n",
    "db_manager.connect(mongodb_connection)\n",
    "\n",
    "# Get distinct establishment IDs\n",
    "distinct_ids = list(db_manager.db.ls_unified_reviews.distinct(\"establishment_id\"))\n",
    "\n",
    "print(f\"Found {len(distinct_ids)} distinct establishments:\")\n",
    "for establishment_id in distinct_ids:\n",
    "    print(establishment_id)\n",
    "\n",
    "db_manager.close_connection()"
   ]
  },
  {
   "cell_type": "code",
   "execution_count": 13,
   "id": "d54eaeb2",
   "metadata": {},
   "outputs": [
    {
     "name": "stderr",
     "output_type": "stream",
     "text": [
      "INFO:database.db_manager:Successfully connected to MongoDB database: review_scraper\n",
      "INFO:database.db_manager:Database connection closed\n"
     ]
    },
    {
     "name": "stdout",
     "output_type": "stream",
     "text": [
      "Found 256 reviews for establishment 68822a391955e8dc333619d0\n"
     ]
    }
   ],
   "source": [
    "# Connect\n",
    "db_manager.connect(mongodb_connection)\n",
    "\n",
    "# Get reviews for specific establishment\n",
    "establishment_id = \"68822a391955e8dc333619d0\" \n",
    "reviews = list(db_manager.db.ls_unified_reviews.find({\"establishment_id\": establishment_id}))\n",
    "\n",
    "print(f\"Found {len(reviews)} reviews for establishment {establishment_id}\")\n",
    "\n",
    "db_manager.close_connection()"
   ]
  },
  {
   "cell_type": "code",
   "execution_count": null,
   "id": "f9d7b2a6",
   "metadata": {},
   "outputs": [
    {
     "name": "stdout",
     "output_type": "stream",
     "text": [
      "        establishment_id                                                      display_name  total_reviews  total_responses\n",
      "68822a3a1955e8dc333619dd                         Dr. Serkan Aygın - Hair Transplant Clinic           2666             2065\n",
      "68822a391955e8dc333619d2                                           Smile - Hair Transplant           2189             1763\n",
      "68822a3a1955e8dc333619e0                                     SULE Clinic - Hair Transplant           1591              663\n",
      "687a86fa9df984d21a147535                                         Hermest - Hair Transplant            837              285\n",
      "68822a391955e8dc333619cb                                            VatanMed - Hair Clinic            726              196\n",
      "68822a3a1955e8dc333619e4                    Swedish - Hair Transplant and Aesthetic Clinic            725              725\n",
      "687a86fa9df984d21a147538                               Haircenter - Hair Transplant Center            637              582\n",
      "68822a391955e8dc333619d7                                              Este - Medical Group            611              532\n",
      "68822a3a1955e8dc333619e3                    Hair Center of Turkey - Hair Transplant Center            570              282\n",
      "687a51385c7e5bb6b9c1a5d6                                  AKL - Hair Transplant Policlinic            550              258\n",
      "68822a3a1955e8dc333619db               Selda Center - Hair Transplant and Aesthetic Center            538              534\n",
      "687a86fa9df984d21a147534              Berkay Tulpar - Hair Transplant and Aesthetic Clinic            527              417\n",
      "68822a391955e8dc333619d1                   One Hair - Hair Transplant and Aesthetic Clinic            524              518\n",
      "68822a391955e8dc333619ce                                  Be Safe Health - Hair Transplant            521              178\n",
      "68822a3a1955e8dc333619de            Vialife - Hair Transplant, Aesthetic and Dental Clinic            496               16\n",
      "68822a391955e8dc333619d5                        Istanbul Hairline - Hair Transplant Center            428               24\n",
      "687a86fa9df984d21a147536                                      Aziz Aksöz - Hair Transplant            428               27\n",
      "687a86fa9df984d21a147530                                Life Time - Hair Transplant Center            412               38\n",
      "687a86fa9df984d21a14752f Medical of Istanbul - Hair Transplant, Aestheic and Dental Clinic            405                1\n",
      "68822a3a1955e8dc333619df                                                  History - Clinic            401              155\n",
      "687a51385c7e5bb6b9c1a5d7                                            ASMED - Medical Center            399               18\n",
      "687a86fa9df984d21a147531                                NIMCLINIC - Hair Transplant Clinic            363                2\n",
      "68822a3a1955e8dc333619d8                               Doctor Zen - Hair Transplant Clinic            363               62\n",
      "68822a3a1955e8dc333619d9                                       Hair City - Hair Transplant            358              131\n",
      "68822a3a1955e8dc333619e1                                     Medart Hair - Hair Transplant            342              131\n",
      "68822a3a1955e8dc333619e2       İstanbul Vita - Hair Transplant, Aestheic and Dental Clinic            340               15\n",
      "68822a391955e8dc333619cf                        Avicenna Hospital - Hair Transplant Center            324               10\n",
      "68822a391955e8dc333619d3                              Este Sağlık - Hair Transplant Center            308              236\n",
      "68822a391955e8dc333619d6                               Estepalace - Hair Transplant Center            301              107\n",
      "68822a391955e8dc333619ca                Estetistanbul - Hair Transplant and Medical Center            292               10\n",
      "68822a391955e8dc333619d4                                          Master - Hair Transplant            280                0\n",
      "68822a391955e8dc333619d0                               Estevalley - Hair Transplant Center            256               46\n",
      "68822a391955e8dc333619c9                         İlhan Serdaroğlu - Hair Transplant Center            252               14\n",
      "68822a391955e8dc333619cd                                                      BAC - Clinic            234              154\n",
      "68822a3a1955e8dc333619da                    Estesie - Hair Transplant and Aesthetic Clinic            218               34\n",
      "68822a391955e8dc333619cc                                Mega Hair - Hair Transplant Center            170                2\n",
      "68822a3a1955e8dc333619dc                       HairextreM & Haydar Aslan - Hair Transplant            157              109\n",
      "687a86fa9df984d21a147533                                 Holiday Estetic - Hair Transplant            145              123\n",
      "687a86fa9df984d21a147537                                   Elit İstanbul - Hair Transplant            112               24\n",
      "687a86fa9df984d21a147532                               Art of Med - Hair Transplant Clinic             87               84\n"
     ]
    },
    {
     "ename": "",
     "evalue": "",
     "output_type": "error",
     "traceback": [
      "\u001b[1;31mThe Kernel crashed while executing code in the current cell or a previous cell. \n",
      "\u001b[1;31mPlease review the code in the cell(s) to identify a possible cause of the failure. \n",
      "\u001b[1;31mClick <a href='https://aka.ms/vscodeJupyterKernelCrash'>here</a> for more info. \n",
      "\u001b[1;31mView Jupyter <a href='command:jupyter.viewOutput'>log</a> for further details."
     ]
    }
   ],
   "source": [
    "#!/usr/bin/env python3\n",
    "\"\"\"\n",
    "Simple Establishment Analysis\n",
    "Shows establishment_id, display_name, total_reviews, total_responses\n",
    "\"\"\"\n",
    "\n",
    "import pandas as pd\n",
    "from pymongo import MongoClient\n",
    "\n",
    "# Load MongoDB connection\n",
    "with open('tokens/mongodb_connection.txt', 'r') as f:\n",
    "    connection_string = f.read().strip()\n",
    "\n",
    "# Connect to database\n",
    "client = MongoClient(connection_string)\n",
    "db = client[\"review_scraper\"]\n",
    "\n",
    "# Get establishment names\n",
    "establishments = {str(doc['_id']): doc['display_name'] \n",
    "                 for doc in db.establishments.find({}, {'_id': 1, 'display_name': 1})}\n",
    "\n",
    "# Aggregate reviews and responses by establishment\n",
    "pipeline = [\n",
    "    {\n",
    "        '$group': {\n",
    "            '_id': '$establishment_id',\n",
    "            'total_reviews': {'$sum': 1},\n",
    "            'total_responses': {\n",
    "                '$sum': {\n",
    "                    '$cond': [\n",
    "                        {\n",
    "                            '$and': [\n",
    "                                {'$ne': ['$response_from_owner_text', None]},\n",
    "                                {'$ne': ['$response_from_owner_text', '']}\n",
    "                            ]\n",
    "                        },\n",
    "                        1,\n",
    "                        0\n",
    "                    ]\n",
    "                }\n",
    "            }\n",
    "        }\n",
    "    },\n",
    "    {'$sort': {'total_reviews': -1}}\n",
    "]\n",
    "\n",
    "# Run aggregation\n",
    "results = list(db.ls_unified_reviews.aggregate(pipeline))\n",
    "\n",
    "# Create DataFrame\n",
    "data = []\n",
    "for result in results:\n",
    "    establishment_id = result['_id']\n",
    "    data.append({\n",
    "        'establishment_id': establishment_id,\n",
    "        'display_name': establishments.get(establishment_id, 'Unknown'),\n",
    "        'total_reviews': result['total_reviews'],\n",
    "        'total_responses': result['total_responses']\n",
    "    })\n",
    "\n",
    "df = pd.DataFrame(data)\n",
    "print(df.to_string(index=False))\n",
    "\n",
    "# Save DataFrame to CSV\n",
    "df.to_csv('establishment_analysis.csv', index=False)\n",
    "\n",
    "# Close connection\n",
    "client.close()"
   ]
  },
  {
   "cell_type": "code",
   "execution_count": null,
   "id": "5e7b0c36",
   "metadata": {},
   "outputs": [],
   "source": []
  }
 ],
 "metadata": {
  "kernelspec": {
   "display_name": "base",
   "language": "python",
   "name": "python3"
  },
  "language_info": {
   "codemirror_mode": {
    "name": "ipython",
    "version": 3
   },
   "file_extension": ".py",
   "mimetype": "text/x-python",
   "name": "python",
   "nbconvert_exporter": "python",
   "pygments_lexer": "ipython3",
   "version": "3.11.4"
  }
 },
 "nbformat": 4,
 "nbformat_minor": 5
}
